{
 "cells": [
  {
   "cell_type": "markdown",
   "metadata": {},
   "source": [
    "# Simulation Results"
   ]
  },
  {
   "cell_type": "code",
   "execution_count": null,
   "metadata": {
    "vscode": {
     "languageId": "r"
    }
   },
   "outputs": [],
   "source": [
    "library(ggplot2)\n",
    "library(tidyr)\n",
    "library(dplyr)\n",
    "library(viridis)\n",
    "\n",
    "# 定义自定义标签函数\n",
    "custom_labels <- function(tau_values) {\n",
    "  labels <- sapply(tau_values, function(x) paste(\"SNR =\", x))\n",
    "  return(labels)\n",
    "}"
   ]
  },
  {
   "cell_type": "code",
   "execution_count": null,
   "metadata": {
    "vscode": {
     "languageId": "r"
    }
   },
   "outputs": [],
   "source": [
    "myPlot <- function(str, prefix, str2, prefix2) {\n",
    "    res <- matrix(NA, nrow = 2250, ncol = 7)\n",
    "    combs <- expand.grid(tau = rep(c(0.10, 0.25, 0.3, 0.5, 1.0), each = 50), n = c(500, 750, 1000), quantile = c(0.05, 0.25, 0.5))\n",
    "\n",
    "    for (uu in 1 : 2250) {\n",
    "        tmp <- paste0(prefix, str, \"/Res_\", uu, \".RDS\")\n",
    "        if (file.exists(tmp)) {\n",
    "            temp <- readRDS(tmp)\n",
    "            for (i in 1 : 7) {\n",
    "                res[uu, i] <- temp$err[i + 1] # TODO: log scale\n",
    "            }\n",
    "            tmp1 <- paste0(prefix2, str2, \"/Res_\", uu, \".RDS\")\n",
    "            if (file.exists(tmp1)) {\n",
    "                temp1 <- readRDS(tmp1)\n",
    "                res[uu, 5] <- temp1$err[2]\n",
    "            }\n",
    "        } else {\n",
    "            cat(uu, \", \", sep = \"\")\n",
    "        }\n",
    "    }\n",
    "\n",
    "    res <- cbind(combs, res)\n",
    "    res <- na.omit(res)\n",
    "\n",
    "    res_df <- as.data.frame(res)\n",
    "    colnames(res_df) <- c('tau', 'n', 'q', 'Uni', 'Ridge', 'Elastic', 'Smooth', 'Concave', 'FPCA', 'FPCA-R') \n",
    "\n",
    "    res_long <- pivot_longer(res_df, cols = c('Uni', 'Ridge', 'Elastic', 'Concave', 'FPCA', 'FPCA-R'), names_to = \"Method\", values_to = \"value\")\n",
    "\n",
    "    # 指定 Method 的顺序\n",
    "    res_long$Method <- factor(res_long$Method, levels = c(\"Elastic\", \"Ridge\", \"FPCA\", \"FPCA-R\", \"Uni\", \"Concave\"))\n",
    "\n",
    "    tau_values <- c(0.10, 0.25, 0.5)\n",
    "    # n_values <- c(500, 750, 1000, 1500, 2000)\n",
    "    n_values <- c(500, 750, 1000)\n",
    "    q_values <- c(0.25)\n",
    "    \n",
    "    # 过滤出包含所需 tau 值的数据\n",
    "    res_tau_filtered <- filter(res_long, tau %in% tau_values)\n",
    "    res_n_filtered <- filter(res_tau_filtered, n %in% n_values)\n",
    "    res_q_filtered <- filter(res_n_filtered, q %in% q_values)\n",
    "\n",
    "    # 使用 ggplot 创建箱线图，并使用 facet_wrap 进行分面\n",
    "    p <- ggplot(res_q_filtered, aes(x = factor(n), y = value, fill = Method)) +\n",
    "        geom_boxplot(width = 0.7, outlier.size = 0.1, notch = TRUE) +\n",
    "        facet_wrap(~ tau, nrow = 2, ncol = 3, labeller = labeller(tau = custom_labels)) +\n",
    "        xlab(expression(n)) +\n",
    "        ylab(\"Estimation Error\") +\n",
    "        theme_bw() +\n",
    "        scale_fill_viridis(discrete = TRUE, guide = 'none', option = 'C') +\n",
    "        theme(plot.title = element_text(hjust = 0.5, size = 20),\n",
    "            axis.text = element_text(size = 15),\n",
    "            axis.title = element_text(size = 20),\n",
    "            legend.position = \"bottom\",\n",
    "            strip.text = element_text(size = 15)) # + guides(fill = guide_legend()) \n",
    "\n",
    "    # 保存图像 # ? set height = 4 for plot without legend\n",
    "    ggsave(paste0(\"figs/new-\", str, \".pdf\"), plot = p, width = 15, height = 4, units = \"in\")\n",
    "}"
   ]
  },
  {
   "cell_type": "markdown",
   "metadata": {
    "vscode": {
     "languageId": "r"
    }
   },
   "source": [
    "## Estimation Errors\n",
    "### With normal noise (Figures in section 6.3)"
   ]
  },
  {
   "cell_type": "code",
   "execution_count": null,
   "metadata": {
    "vscode": {
     "languageId": "r"
    }
   },
   "outputs": [],
   "source": [
    "prefix <- \"Results-v01s/\"\n",
    "prefix2 <- \"Results-v02s/\"\n",
    "\n",
    "str <- \"01A-normal\"\n",
    "str2 <- \"02A-normal\"\n",
    "myPlot(str, prefix, str2, prefix2)\n",
    "\n",
    "str <- \"01B-normal\"\n",
    "str2 <- \"02B-normal\"\n",
    "myPlot(str, prefix, str2, prefix2)\n",
    "\n",
    "str <- \"01C-normal\"\n",
    "str2 <- \"02C-normal\"\n",
    "myPlot(str, prefix, str2, prefix2)"
   ]
  },
  {
   "cell_type": "markdown",
   "metadata": {
    "vscode": {
     "languageId": "r"
    }
   },
   "source": [
    "### With t-distritbution noise (Figures in section 6.3)"
   ]
  },
  {
   "cell_type": "code",
   "execution_count": null,
   "metadata": {
    "vscode": {
     "languageId": "r"
    }
   },
   "outputs": [],
   "source": [
    "prefix <- \"Results-v11s/\"\n",
    "prefix2 <- \"Results-v13s/\"\n",
    "\n",
    "str <- \"01A-t\"\n",
    "str2 <- \"02A-t\"\n",
    "myPlot(str, prefix, str2, prefix2)\n",
    "\n",
    "str <- \"01B-t\"\n",
    "str2 <- \"02B-t\"\n",
    "myPlot(str, prefix, str2, prefix2)\n",
    "\n",
    "str <- \"01B-t\"\n",
    "str2 <- \"02B-t\"\n",
    "myPlot(str, prefix, str2, prefix2)"
   ]
  },
  {
   "cell_type": "markdown",
   "metadata": {
    "vscode": {
     "languageId": "r"
    }
   },
   "source": [
    "## Estimation Curves"
   ]
  },
  {
   "cell_type": "code",
   "execution_count": 27,
   "metadata": {
    "vscode": {
     "languageId": "r"
    }
   },
   "outputs": [
    {
     "data": {
      "text/html": [
       "<strong>png:</strong> 2"
      ],
      "text/latex": [
       "\\textbf{png:} 2"
      ],
      "text/markdown": [
       "**png:** 2"
      ],
      "text/plain": [
       "png \n",
       "  2 "
      ]
     },
     "metadata": {},
     "output_type": "display_data"
    }
   ],
   "source": [
    "combs <- expand.grid(tau = rep(c(0.10, 0.25, 0.3, 0.5, 1.0), each = 50), n = c(500, 750, 1000), quantile = c(0.05, 0.25, 0.5))\n",
    "\n",
    "pdf(\"figs/11-3-curve-1.pdf\", width = 17, height = 4)\n",
    "par(mfrow = c(1, 3), mar = c(5, 5, 4, 2) + 0.4)\n",
    "\n",
    "# 设置字体大小\n",
    "cex_lab <- 3 # 坐标轴标签的大小\n",
    "cex_axis <- 2 # 坐标轴数字的大小\n",
    "cex_main <- 2 # 主标题的大小\n",
    "\n",
    "\n",
    "n <- 750\n",
    "SNRs <- c(0.10, 0.25, 0.5)\n",
    "q <- 0.25\n",
    "\n",
    "# 为每个kk值绘图\n",
    "for (kk in 1:3) {\n",
    "    beta.ave <- rep(0, 30)\n",
    "    uus <- which(combs$tau == SNRs[kk] & combs$n == n & combs$quantile == q)\n",
    "    uusample <- uus\n",
    "\n",
    "    uu <- uusample[1]\n",
    "    tmp <- paste0(\"Results-v11s/11-3/Res_\", uu, \".RDS\")\n",
    "    temp <- readRDS(tmp)\n",
    "\n",
    "    beta.true <- matrix(temp$beta.all[,1], nrow = 6, byrow = TRUE)\n",
    "    beta.uni <- matrix(temp$beta.all[,3], nrow = 6, byrow = TRUE)\n",
    "    # beta.spline <- matrix(temp$beta.all[,8], nrow = 6, byrow = TRUE)\n",
    "    # beta.spline.ridge <- matrix(temp$beta.all[,9], nrow = 6, byrow = TRUE)\n",
    "\n",
    "    # 绘制第一个plot\n",
    "    if (kk == 1) {\n",
    "        plot(1:30, beta.true[1, ], type = 'o', col = 1, lwd = 3, ylim = c(-8, 8), xlab = \"\", ylab = \"Coefficients\", main = paste(\"SNR =\", SNRs[kk]), cex.lab = cex_lab, cex.axis = cex_axis, cex.main = cex_main)\n",
    "    } else {\n",
    "        plot(1:30, beta.true[1, ], type = 'o', col = 1, lwd = 3, ylim = c(-8, 8), xlab = \"\", ylab = \"\", main = paste(\"SNR =\", SNRs[kk]), cex.lab = cex_lab, cex.axis = cex_axis, cex.main = cex_main)\n",
    "    }\n",
    "    \n",
    "    lines(1:30, beta.uni[1, ], type = 'l', col = 3, lty = 2)\n",
    "    beta.ave <- beta.ave + beta.uni[1, ]\n",
    "    # lines(1:30, beta.spline[1, ], type = 'o', col = 3, lty = 2)\n",
    "    # lines(1:30, beta.spline.ridge[1, ], type = 'o', col = 4, lty = 2)\n",
    "\n",
    "    # 绘制剩余的plots\n",
    "    for (uu in uusample[-1]) {\n",
    "        tmp <- paste0(\"Results-v11s/11-3/Res_\", uu, \".RDS\")\n",
    "        if (file.exists(tmp)) {\n",
    "            temp <- readRDS(tmp)\n",
    "        } else {\n",
    "            cat(uu, \", \", sep = \"\")\n",
    "        }\n",
    "        beta.uni <- matrix(temp$beta.all[,3], nrow = 6, byrow = TRUE)\n",
    "        # beta.spline <- matrix(temp$beta.all[,8], nrow = 6, byrow = TRUE)\n",
    "        # beta.spline.ridge <- matrix(temp$beta.all[,9], nrow = 6, byrow = TRUE)\n",
    "        lines(1:30, beta.uni[1,], type = 'l', col = 3, lty = 2)\n",
    "        beta.ave <- beta.ave + beta.uni[1, ]\n",
    "        # lines(1:30, beta.spline[1,], type = 'o', col = 3, lty = 2)\n",
    "        # lines(1:30, beta.spline.ridge[1, ], type = 'o', col = 4, lty = 2)\n",
    "    }\n",
    "\n",
    "    lines(1:30, beta.ave / length(uusample), type = 'o', col = 2, lty = 1, lwd = 3)\n",
    "}\n",
    "dev.off()"
   ]
  },
  {
   "cell_type": "code",
   "execution_count": 28,
   "metadata": {
    "vscode": {
     "languageId": "r"
    }
   },
   "outputs": [
    {
     "data": {
      "text/html": [
       "<strong>png:</strong> 2"
      ],
      "text/latex": [
       "\\textbf{png:} 2"
      ],
      "text/markdown": [
       "**png:** 2"
      ],
      "text/plain": [
       "png \n",
       "  2 "
      ]
     },
     "metadata": {},
     "output_type": "display_data"
    }
   ],
   "source": [
    "# Spline with Ridge Penalty\n",
    "pdf(\"figs/11-3-curve-2.pdf\", width = 17, height = 4)\n",
    "par(mfrow = c(1, 3), mar = c(5, 5, 4, 2) + 0.4)\n",
    "\n",
    "# 设置字体大小\n",
    "cex_lab <- 3 # 坐标轴标签的大小\n",
    "cex_axis <- 2 # 坐标轴数字的大小\n",
    "cex_main <- 2 # 主标题的大小\n",
    "\n",
    "\n",
    "n <- 750\n",
    "SNRs <- c(0.10, 0.25, 0.5)\n",
    "q <- 0.25\n",
    "\n",
    "# 为每个kk值绘图\n",
    "for (kk in 1:3) {\n",
    "    beta.ave <- rep(0, 30)\n",
    "    uus <- which(combs$tau == SNRs[kk] & combs$n == n & combs$quantile == q)\n",
    "    uusample <- uus\n",
    "\n",
    "    uu <- uusample[1]\n",
    "    tmp <- paste0(\"Results-v11s/11-3/Res_\", uu, \".RDS\")\n",
    "    temp <- readRDS(tmp)\n",
    "\n",
    "    beta.true <- matrix(temp$beta.all[,1], nrow = 6, byrow = TRUE)\n",
    "    beta.uni <- matrix(temp$beta.all[,9], nrow = 6, byrow = TRUE)\n",
    "    # beta.spline <- matrix(temp$beta.all[,8], nrow = 6, byrow = TRUE)\n",
    "    # beta.spline.ridge <- matrix(temp$beta.all[,9], nrow = 6, byrow = TRUE)\n",
    "\n",
    "    # 绘制第一个plot\n",
    "    if (kk == 1) {\n",
    "        plot(1:30, beta.true[1, ], type = 'o', col = 1, lwd = 2, ylim = c(-8, 8), xlab = \"\", ylab = \"Coefficients\", main = paste(\"SNR =\", SNRs[kk]), cex.lab = cex_lab, cex.axis = cex_axis, cex.main = cex_main)\n",
    "    } else {\n",
    "        plot(1:30, beta.true[1, ], type = 'o', col = 1, lwd = 2, ylim = c(-8, 8), xlab = \"\", ylab = \"\", main = paste(\"SNR =\", SNRs[kk]), cex.lab = cex_lab, cex.axis = cex_axis, cex.main = cex_main)\n",
    "    }\n",
    "    \n",
    "    lines(1:30, beta.uni[1, ], type = 'l', col = 4, lty = 2)\n",
    "    beta.ave <- beta.ave + beta.uni[1, ]\n",
    "    # lines(1:30, beta.spline[1, ], type = 'o', col = 3, lty = 2)\n",
    "    # lines(1:30, beta.spline.ridge[1, ], type = 'o', col = 4, lty = 2)\n",
    "\n",
    "    # 绘制剩余的plots\n",
    "    for (uu in uusample[-1]) {\n",
    "        tmp <- paste0(\"Results-v11s/11-3/Res_\", uu, \".RDS\")\n",
    "        if (file.exists(tmp)) {\n",
    "            temp <- readRDS(tmp)\n",
    "        } else {\n",
    "            cat(uu, \", \", sep = \"\")\n",
    "        }\n",
    "        beta.uni <- matrix(temp$beta.all[,9], nrow = 6, byrow = TRUE)\n",
    "        # beta.spline <- matrix(temp$beta.all[,8], nrow = 6, byrow = TRUE)\n",
    "        # beta.spline.ridge <- matrix(temp$beta.all[,9], nrow = 6, byrow = TRUE)\n",
    "        lines(1:30, beta.uni[1,], type = 'l', col = 4, lty = 2)\n",
    "        beta.ave <- beta.ave + beta.uni[1, ]\n",
    "        # lines(1:30, beta.spline[1,], type = 'o', col = 3, lty = 2)\n",
    "        # lines(1:30, beta.spline.ridge[1, ], type = 'o', col = 4, lty = 2)\n",
    "    }\n",
    "\n",
    "    lines(1:30, beta.ave / length(uusample), type = 'o', col = 2, lty = 1, lwd = 2)\n",
    "}\n",
    "dev.off()"
   ]
  },
  {
   "cell_type": "code",
   "execution_count": 29,
   "metadata": {
    "vscode": {
     "languageId": "r"
    }
   },
   "outputs": [
    {
     "data": {
      "text/html": [
       "<strong>png:</strong> 2"
      ],
      "text/latex": [
       "\\textbf{png:} 2"
      ],
      "text/markdown": [
       "**png:** 2"
      ],
      "text/plain": [
       "png \n",
       "  2 "
      ]
     },
     "metadata": {},
     "output_type": "display_data"
    }
   ],
   "source": [
    "pdf(\"figs/11-3-curve-3.pdf\", width = 17, height = 4)\n",
    "par(mfrow = c(1, 3), mar = c(5, 5, 4, 2) + 0.4)\n",
    "\n",
    "# 设置字体大小\n",
    "cex_lab <- 3 # 坐标轴标签的大小\n",
    "cex_axis <- 2 # 坐标轴数字的大小\n",
    "cex_main <- 2 # 主标题的大小\n",
    "\n",
    "\n",
    "n <- 750\n",
    "SNRs <- c(0.10, 0.25, 0.5)\n",
    "q <- 0.25\n",
    "\n",
    "# 为每个kk值绘图\n",
    "for (kk in 1:3) {\n",
    "    beta.ave <- rep(0, 30)\n",
    "    uus <- which(combs$tau == SNRs[kk] & combs$n == n & combs$quantile == q)\n",
    "    uusample <- uus\n",
    "\n",
    "    uu <- uusample[1]\n",
    "    tmp <- paste0(\"Results-v13s/13-3/Res_\", uu, \".RDS\")\n",
    "    temp <- readRDS(tmp)\n",
    "\n",
    "    beta.true <- matrix(temp$beta.all[,1], nrow = 6, byrow = TRUE)\n",
    "    beta.uni <- matrix(temp$beta.all[,3], nrow = 6, byrow = TRUE)\n",
    "    # beta.spline <- matrix(temp$beta.all[,8], nrow = 6, byrow = TRUE)\n",
    "    # beta.spline.ridge <- matrix(temp$beta.all[,9], nrow = 6, byrow = TRUE)\n",
    "\n",
    "    # 绘制第一个plot\n",
    "    if (kk == 1) {\n",
    "        plot(1:30, beta.true[1, ], type = 'o', col = 1, lwd = 3, ylim = c(-8, 8), xlab = \"\", ylab = \"Coefficients\", main = paste(\"SNR =\", SNRs[kk]), cex.lab = cex_lab, cex.axis = cex_axis, cex.main = cex_main)\n",
    "    } else {\n",
    "        plot(1:30, beta.true[1, ], type = 'o', col = 1, lwd = 3, ylim = c(-8, 8), xlab = \"\", ylab = \"\", main = paste(\"SNR =\", SNRs[kk]), cex.lab = cex_lab, cex.axis = cex_axis, cex.main = cex_main)\n",
    "    }\n",
    "    \n",
    "    lines(1:30, beta.uni[1, ], type = 'l', col = \"orange\", lty = 2)\n",
    "    beta.ave <- beta.ave + beta.uni[1, ]\n",
    "    # lines(1:30, beta.spline[1, ], type = 'o', col = 3, lty = 2)\n",
    "    # lines(1:30, beta.spline.ridge[1, ], type = 'o', col = 4, lty = 2)\n",
    "\n",
    "    # 绘制剩余的plots\n",
    "    for (uu in uusample[-1]) {\n",
    "        tmp <- paste0(\"Results-v13s/13-3/Res_\", uu, \".RDS\")\n",
    "        if (file.exists(tmp)) {\n",
    "            temp <- readRDS(tmp)\n",
    "        } else {\n",
    "            cat(uu, \", \", sep = \"\")\n",
    "        }\n",
    "        beta.uni <- matrix(temp$beta.all[,3], nrow = 6, byrow = TRUE)\n",
    "        # beta.spline <- matrix(temp$beta.all[,8], nrow = 6, byrow = TRUE)\n",
    "        # beta.spline.ridge <- matrix(temp$beta.all[,9], nrow = 6, byrow = TRUE)\n",
    "        lines(1:30, beta.uni[1,], type = 'l', col = \"orange\", lty = 2)\n",
    "        beta.ave <- beta.ave + beta.uni[1, ]\n",
    "        # lines(1:30, beta.spline[1,], type = 'o', col = 3, lty = 2)\n",
    "        # lines(1:30, beta.spline.ridge[1, ], type = 'o', col = 4, lty = 2)\n",
    "    }\n",
    "\n",
    "    lines(1:30, beta.ave / length(uusample), type = 'o', col = 2, lty = 1, lwd = 3)\n",
    "}\n",
    "dev.off()"
   ]
  },
  {
   "cell_type": "code",
   "execution_count": 30,
   "metadata": {
    "vscode": {
     "languageId": "r"
    }
   },
   "outputs": [
    {
     "data": {
      "text/html": [
       "<strong>png:</strong> 2"
      ],
      "text/latex": [
       "\\textbf{png:} 2"
      ],
      "text/markdown": [
       "**png:** 2"
      ],
      "text/plain": [
       "png \n",
       "  2 "
      ]
     },
     "metadata": {},
     "output_type": "display_data"
    }
   ],
   "source": [
    "combs <- expand.grid(tau = rep(c(0.10, 0.25, 0.3, 0.5, 1.0), each = 50), n = c(500, 750, 1000), quantile = c(0.05, 0.25, 0.5))\n",
    "\n",
    "pdf(\"figs/11-3s-curve-1.pdf\", width = 17, height = 4)\n",
    "par(mfrow = c(1, 3), mar = c(5, 5, 4, 2) + 0.4)\n",
    "\n",
    "# 设置字体大小\n",
    "cex_lab <- 3 # 坐标轴标签的大小\n",
    "cex_axis <- 2 # 坐标轴数字的大小\n",
    "cex_main <- 2 # 主标题的大小\n",
    "\n",
    "\n",
    "n <- 750\n",
    "SNRs <- c(0.10, 0.25, 0.5)\n",
    "q <- 0.25\n",
    "\n",
    "# 为每个kk值绘图\n",
    "for (kk in 1:3) {\n",
    "    beta.ave <- rep(0, 30)\n",
    "    uus <- which(combs$tau == SNRs[kk] & combs$n == n & combs$quantile == q)\n",
    "    uusample <- uus\n",
    "\n",
    "    uu <- uusample[1]\n",
    "    tmp <- paste0(\"Results-v11s/11-3s/Res_\", uu, \".RDS\")\n",
    "    temp <- readRDS(tmp)\n",
    "\n",
    "    beta.true <- matrix(temp$beta.all[,1], nrow = 6, byrow = TRUE)\n",
    "    beta.uni <- matrix(temp$beta.all[,3], nrow = 6, byrow = TRUE)\n",
    "    # beta.spline <- matrix(temp$beta.all[,8], nrow = 6, byrow = TRUE)\n",
    "    # beta.spline.ridge <- matrix(temp$beta.all[,9], nrow = 6, byrow = TRUE)\n",
    "\n",
    "    # 绘制第一个plot\n",
    "    if (kk == 1) {\n",
    "        plot(1:30, beta.true[1, ], type = 'o', col = 1, lwd = 2, ylim = c(-8, 8), xlab = \"\", ylab = \"Coefficients\", main = paste(\"SNR =\", SNRs[kk]), cex.lab = cex_lab, cex.axis = cex_axis, cex.main = cex_main)\n",
    "    } else {\n",
    "        plot(1:30, beta.true[1, ], type = 'o', col = 1, lwd = 2, ylim = c(-8, 8), xlab = \"\", ylab = \"\", main = paste(\"SNR =\", SNRs[kk]), cex.lab = cex_lab, cex.axis = cex_axis, cex.main = cex_main)\n",
    "    }\n",
    "    \n",
    "    lines(1:30, beta.uni[1, ], type = 'l', col = 3, lty = 2)\n",
    "    beta.ave <- beta.ave + beta.uni[1, ]\n",
    "    # lines(1:30, beta.spline[1, ], type = 'o', col = 3, lty = 2)\n",
    "    # lines(1:30, beta.spline.ridge[1, ], type = 'o', col = 4, lty = 2)\n",
    "\n",
    "    # 绘制剩余的plots\n",
    "    for (uu in uusample[-1]) {\n",
    "        tmp <- paste0(\"Results-v11s/11-3s/Res_\", uu, \".RDS\")\n",
    "        if (file.exists(tmp)) {\n",
    "            temp <- readRDS(tmp)\n",
    "        } else {\n",
    "            cat(uu, \", \", sep = \"\")\n",
    "        }\n",
    "        beta.uni <- matrix(temp$beta.all[,3], nrow = 6, byrow = TRUE)\n",
    "        # beta.spline <- matrix(temp$beta.all[,8], nrow = 6, byrow = TRUE)\n",
    "        # beta.spline.ridge <- matrix(temp$beta.all[,9], nrow = 6, byrow = TRUE)\n",
    "        lines(1:30, beta.uni[1,], type = 'l', col = 3, lty = 2)\n",
    "        beta.ave <- beta.ave + beta.uni[1, ]\n",
    "        # lines(1:30, beta.spline[1,], type = 'o', col = 3, lty = 2)\n",
    "        # lines(1:30, beta.spline.ridge[1, ], type = 'o', col = 4, lty = 2)\n",
    "    }\n",
    "\n",
    "    lines(1:30, beta.ave / length(uusample), type = 'o', col = 2, lty = 1, lwd = 2)\n",
    "}\n",
    "dev.off()"
   ]
  },
  {
   "cell_type": "code",
   "execution_count": 31,
   "metadata": {
    "vscode": {
     "languageId": "r"
    }
   },
   "outputs": [
    {
     "data": {
      "text/html": [
       "<strong>png:</strong> 2"
      ],
      "text/latex": [
       "\\textbf{png:} 2"
      ],
      "text/markdown": [
       "**png:** 2"
      ],
      "text/plain": [
       "png \n",
       "  2 "
      ]
     },
     "metadata": {},
     "output_type": "display_data"
    }
   ],
   "source": [
    "# ! ---------------------------\n",
    "# ! Spline with Ridge Penalty\n",
    "# ! ---------------------------\n",
    "pdf(\"figs/11-3s-curve-2.pdf\", width = 17, height = 4)\n",
    "par(mfrow = c(1, 3), mar = c(5, 5, 4, 2) + 0.4)\n",
    "\n",
    "# 设置字体大小\n",
    "cex_lab <- 3 # 坐标轴标签的大小\n",
    "cex_axis <- 2 # 坐标轴数字的大小\n",
    "cex_main <- 2 # 主标题的大小\n",
    "\n",
    "\n",
    "n <- 750\n",
    "SNRs <- c(0.10, 0.25, 0.5)\n",
    "q <- 0.25\n",
    "\n",
    "# 为每个kk值绘图\n",
    "for (kk in 1:3) {\n",
    "    beta.ave <- rep(0, 30)\n",
    "    uus <- which(combs$tau == SNRs[kk] & combs$n == n & combs$quantile == q)\n",
    "    uusample <- uus\n",
    "\n",
    "    uu <- uusample[1]\n",
    "    tmp <- paste0(\"Results-v11s/11-3s/Res_\", uu, \".RDS\")\n",
    "    temp <- readRDS(tmp)\n",
    "\n",
    "    beta.true <- matrix(temp$beta.all[,1], nrow = 6, byrow = TRUE)\n",
    "    beta.uni <- matrix(temp$beta.all[,9], nrow = 6, byrow = TRUE)\n",
    "    # beta.spline <- matrix(temp$beta.all[,8], nrow = 6, byrow = TRUE)\n",
    "    # beta.spline.ridge <- matrix(temp$beta.all[,9], nrow = 6, byrow = TRUE)\n",
    "\n",
    "    # 绘制第一个plot\n",
    "    if (kk == 1) {\n",
    "        plot(1:30, beta.true[1, ], type = 'o', col = 1, lwd = 2, ylim = c(-8, 8), xlab = \"\", ylab = \"Coefficients\", main = paste(\"SNR =\", SNRs[kk]), cex.lab = cex_lab, cex.axis = cex_axis, cex.main = cex_main)\n",
    "    } else {\n",
    "        plot(1:30, beta.true[1, ], type = 'o', col = 1, lwd = 2, ylim = c(-8, 8), xlab = \"\", ylab = \"\", main = paste(\"SNR =\", SNRs[kk]), cex.lab = cex_lab, cex.axis = cex_axis, cex.main = cex_main)\n",
    "    }\n",
    "    \n",
    "    lines(1:30, beta.uni[1, ], type = 'l', col = 4, lty = 2)\n",
    "    beta.ave <- beta.ave + beta.uni[1, ]\n",
    "    # lines(1:30, beta.spline[1, ], type = 'o', col = 3, lty = 2)\n",
    "    # lines(1:30, beta.spline.ridge[1, ], type = 'o', col = 4, lty = 2)\n",
    "\n",
    "    # 绘制剩余的plots\n",
    "    for (uu in uusample[-1]) {\n",
    "        tmp <- paste0(\"Results-v11s/11-3s/Res_\", uu, \".RDS\")\n",
    "        if (file.exists(tmp)) {\n",
    "            temp <- readRDS(tmp)\n",
    "        } else {\n",
    "            cat(uu, \", \", sep = \"\")\n",
    "        }\n",
    "        beta.uni <- matrix(temp$beta.all[,9], nrow = 6, byrow = TRUE)\n",
    "        # beta.spline <- matrix(temp$beta.all[,8], nrow = 6, byrow = TRUE)\n",
    "        # beta.spline.ridge <- matrix(temp$beta.all[,9], nrow = 6, byrow = TRUE)\n",
    "        lines(1:30, beta.uni[1,], type = 'l', col = 4, lty = 2)\n",
    "        beta.ave <- beta.ave + beta.uni[1, ]\n",
    "        # lines(1:30, beta.spline[1,], type = 'o', col = 3, lty = 2)\n",
    "        # lines(1:30, beta.spline.ridge[1, ], type = 'o', col = 4, lty = 2)\n",
    "    }\n",
    "\n",
    "    lines(1:30, beta.ave / length(uusample), type = 'o', col = 2, lty = 1, lwd = 2)\n",
    "}\n",
    "dev.off()"
   ]
  },
  {
   "cell_type": "code",
   "execution_count": 32,
   "metadata": {
    "vscode": {
     "languageId": "r"
    }
   },
   "outputs": [
    {
     "data": {
      "text/html": [
       "<strong>png:</strong> 2"
      ],
      "text/latex": [
       "\\textbf{png:} 2"
      ],
      "text/markdown": [
       "**png:** 2"
      ],
      "text/plain": [
       "png \n",
       "  2 "
      ]
     },
     "metadata": {},
     "output_type": "display_data"
    }
   ],
   "source": [
    "pdf(\"figs/11-3s-curve-3.pdf\", width = 17, height = 4)\n",
    "par(mfrow = c(1, 3), mar = c(5, 5, 4, 2) + 0.4)\n",
    "\n",
    "# 设置字体大小\n",
    "cex_lab <- 3 # 坐标轴标签的大小\n",
    "cex_axis <- 2 # 坐标轴数字的大小\n",
    "cex_main <- 2 # 主标题的大小\n",
    "\n",
    "\n",
    "n <- 750\n",
    "SNRs <- c(0.10, 0.25, 0.5)\n",
    "q <- 0.25\n",
    "\n",
    "# 为每个kk值绘图\n",
    "for (kk in 1:3) {\n",
    "    beta.ave <- rep(0, 30)\n",
    "    uus <- which(combs$tau == SNRs[kk] & combs$n == n & combs$quantile == q)\n",
    "    uusample <- uus\n",
    "\n",
    "    uu <- uusample[1]\n",
    "    tmp <- paste0(\"Results-v13s/13-3s/Res_\", uu, \".RDS\")\n",
    "    temp <- readRDS(tmp)\n",
    "\n",
    "    beta.true <- matrix(temp$beta.all[,1], nrow = 6, byrow = TRUE)\n",
    "    beta.uni <- matrix(temp$beta.all[,3], nrow = 6, byrow = TRUE)\n",
    "    # beta.spline <- matrix(temp$beta.all[,8], nrow = 6, byrow = TRUE)\n",
    "    # beta.spline.ridge <- matrix(temp$beta.all[,9], nrow = 6, byrow = TRUE)\n",
    "\n",
    "    # 绘制第一个plot\n",
    "    if (kk == 1) {\n",
    "        plot(1:30, beta.true[1, ], type = 'o', col = 1, lwd = 2, ylim = c(-8, 8), xlab = \"\", ylab = \"Coefficients\", main = paste(\"SNR =\", SNRs[kk]), cex.lab = cex_lab, cex.axis = cex_axis, cex.main = cex_main)\n",
    "    } else {\n",
    "        plot(1:30, beta.true[1, ], type = 'o', col = 1, lwd = 2, ylim = c(-8, 8), xlab = \"\", ylab = \"\", main = paste(\"SNR =\", SNRs[kk]), cex.lab = cex_lab, cex.axis = cex_axis, cex.main = cex_main)\n",
    "    }\n",
    "    \n",
    "    lines(1:30, beta.uni[1, ], type = 'l', col = \"orange\", lty = 2)\n",
    "    beta.ave <- beta.ave + beta.uni[1, ]\n",
    "    # lines(1:30, beta.spline[1, ], type = 'o', col = 3, lty = 2)\n",
    "    # lines(1:30, beta.spline.ridge[1, ], type = 'o', col = 4, lty = 2)\n",
    "\n",
    "    # 绘制剩余的plots\n",
    "    for (uu in uusample[-1]) {\n",
    "        tmp <- paste0(\"Results-v13s/13-3s/Res_\", uu, \".RDS\")\n",
    "        if (file.exists(tmp)) {\n",
    "            temp <- readRDS(tmp)\n",
    "        } else {\n",
    "            cat(uu, \", \", sep = \"\")\n",
    "        }\n",
    "        beta.uni <- matrix(temp$beta.all[,3], nrow = 6, byrow = TRUE)\n",
    "        # beta.spline <- matrix(temp$beta.all[,8], nrow = 6, byrow = TRUE)\n",
    "        # beta.spline.ridge <- matrix(temp$beta.all[,9], nrow = 6, byrow = TRUE)\n",
    "        lines(1:30, beta.uni[1,], type = 'l', col = \"orange\", lty = 2)\n",
    "        beta.ave <- beta.ave + beta.uni[1, ]\n",
    "        # lines(1:30, beta.spline[1,], type = 'o', col = 3, lty = 2)\n",
    "        # lines(1:30, beta.spline.ridge[1, ], type = 'o', col = 4, lty = 2)\n",
    "    }\n",
    "\n",
    "    lines(1:30, beta.ave / length(uusample), type = 'o', col = 2, lty = 1, lwd = 2)\n",
    "}\n",
    "dev.off()"
   ]
  },
  {
   "cell_type": "code",
   "execution_count": 33,
   "metadata": {
    "vscode": {
     "languageId": "r"
    }
   },
   "outputs": [
    {
     "data": {
      "text/html": [
       "<strong>png:</strong> 2"
      ],
      "text/latex": [
       "\\textbf{png:} 2"
      ],
      "text/markdown": [
       "**png:** 2"
      ],
      "text/plain": [
       "png \n",
       "  2 "
      ]
     },
     "metadata": {},
     "output_type": "display_data"
    }
   ],
   "source": [
    "combs <- expand.grid(tau = rep(c(0.10, 0.25, 0.3, 0.5, 1.0), each = 50), n = c(500, 750, 1000), quantile = c(0.05, 0.25, 0.5))\n",
    "\n",
    "pdf(\"figs/11-3p-curve-1.pdf\", width = 17, height = 4)\n",
    "par(mfrow = c(1, 3), mar = c(5, 5, 4, 2) + 0.4)\n",
    "\n",
    "# 设置字体大小\n",
    "cex_lab <- 3 # 坐标轴标签的大小\n",
    "cex_axis <- 2 # 坐标轴数字的大小\n",
    "cex_main <- 2 # 主标题的大小\n",
    "\n",
    "\n",
    "n <- 750\n",
    "SNRs <- c(0.10, 0.25, 0.5)\n",
    "q <- 0.25\n",
    "\n",
    "# 为每个kk值绘图\n",
    "for (kk in 1:3) {\n",
    "    beta.ave <- rep(0, 30)\n",
    "    uus <- which(combs$tau == SNRs[kk] & combs$n == n & combs$quantile == q)\n",
    "    uusample <- uus\n",
    "\n",
    "    uu <- uusample[1]\n",
    "    tmp <- paste0(\"Results-v11s/11-3p/Res_\", uu, \".RDS\")\n",
    "    temp <- readRDS(tmp)\n",
    "\n",
    "    beta.true <- matrix(temp$beta.all[,1], nrow = 6, byrow = TRUE)\n",
    "    beta.uni <- matrix(temp$beta.all[,3], nrow = 6, byrow = TRUE)\n",
    "    # beta.spline <- matrix(temp$beta.all[,8], nrow = 6, byrow = TRUE)\n",
    "    # beta.spline.ridge <- matrix(temp$beta.all[,9], nrow = 6, byrow = TRUE)\n",
    "\n",
    "    # 绘制第一个plot\n",
    "    if (kk == 1) {\n",
    "        plot(1:30, beta.true[1, ], type = 'o', col = 1, lwd = 2, ylim = c(-8, 8), xlab = \"\", ylab = \"Coefficients\", main = paste(\"SNR =\", SNRs[kk]), cex.lab = cex_lab, cex.axis = cex_axis, cex.main = cex_main)\n",
    "    } else {\n",
    "        plot(1:30, beta.true[1, ], type = 'o', col = 1, lwd = 2, ylim = c(-8, 8), xlab = \"\", ylab = \"\", main = paste(\"SNR =\", SNRs[kk]), cex.lab = cex_lab, cex.axis = cex_axis, cex.main = cex_main)\n",
    "    }\n",
    "    \n",
    "    lines(1:30, beta.uni[1, ], type = 'l', col = 3, lty = 2)\n",
    "    beta.ave <- beta.ave + beta.uni[1, ]\n",
    "    # lines(1:30, beta.spline[1, ], type = 'o', col = 3, lty = 2)\n",
    "    # lines(1:30, beta.spline.ridge[1, ], type = 'o', col = 4, lty = 2)\n",
    "\n",
    "    # 绘制剩余的plots\n",
    "    for (uu in uusample[-1]) {\n",
    "        tmp <- paste0(\"Results-v11s/11-3p/Res_\", uu, \".RDS\")\n",
    "        if (file.exists(tmp)) {\n",
    "            temp <- readRDS(tmp)\n",
    "        } else {\n",
    "            cat(uu, \", \", sep = \"\")\n",
    "        }\n",
    "        beta.uni <- matrix(temp$beta.all[,3], nrow = 6, byrow = TRUE)\n",
    "        # beta.spline <- matrix(temp$beta.all[,8], nrow = 6, byrow = TRUE)\n",
    "        # beta.spline.ridge <- matrix(temp$beta.all[,9], nrow = 6, byrow = TRUE)\n",
    "        lines(1:30, beta.uni[1,], type = 'l', col = 3, lty = 2)\n",
    "        beta.ave <- beta.ave + beta.uni[1, ]\n",
    "        # lines(1:30, beta.spline[1,], type = 'o', col = 3, lty = 2)\n",
    "        # lines(1:30, beta.spline.ridge[1, ], type = 'o', col = 4, lty = 2)\n",
    "    }\n",
    "\n",
    "    lines(1:30, beta.ave / length(uusample), type = 'o', col = 2, lty = 1, lwd = 2)\n",
    "}\n",
    "dev.off()"
   ]
  },
  {
   "cell_type": "code",
   "execution_count": 34,
   "metadata": {
    "vscode": {
     "languageId": "r"
    }
   },
   "outputs": [
    {
     "data": {
      "text/html": [
       "<strong>png:</strong> 2"
      ],
      "text/latex": [
       "\\textbf{png:} 2"
      ],
      "text/markdown": [
       "**png:** 2"
      ],
      "text/plain": [
       "png \n",
       "  2 "
      ]
     },
     "metadata": {},
     "output_type": "display_data"
    }
   ],
   "source": [
    "# ! ---------------------------\n",
    "# ! Spline with Ridge Penalty\n",
    "# ! ---------------------------\n",
    "pdf(\"figs/11-3p-curve-2.pdf\", width = 17, height = 4)\n",
    "par(mfrow = c(1, 3), mar = c(5, 5, 4, 2) + 0.4)\n",
    "\n",
    "# 设置字体大小\n",
    "cex_lab <- 3 # 坐标轴标签的大小\n",
    "cex_axis <- 2 # 坐标轴数字的大小\n",
    "cex_main <- 2 # 主标题的大小\n",
    "\n",
    "\n",
    "n <- 750\n",
    "SNRs <- c(0.10, 0.25, 0.5)\n",
    "q <- 0.25\n",
    "\n",
    "# 为每个kk值绘图\n",
    "for (kk in 1:3) {\n",
    "    beta.ave <- rep(0, 30)\n",
    "    uus <- which(combs$tau == SNRs[kk] & combs$n == n & combs$quantile == q)\n",
    "    uusample <- uus\n",
    "\n",
    "    uu <- uusample[1]\n",
    "    tmp <- paste0(\"Results-v11s/11-3p/Res_\", uu, \".RDS\")\n",
    "    temp <- readRDS(tmp)\n",
    "\n",
    "    beta.true <- matrix(temp$beta.all[,1], nrow = 6, byrow = TRUE)\n",
    "    beta.uni <- matrix(temp$beta.all[,8], nrow = 6, byrow = TRUE)\n",
    "    # beta.spline <- matrix(temp$beta.all[,8], nrow = 6, byrow = TRUE)\n",
    "    # beta.spline.ridge <- matrix(temp$beta.all[,9], nrow = 6, byrow = TRUE)\n",
    "\n",
    "    # 绘制第一个plot\n",
    "    if (kk == 1) {\n",
    "        plot(1:30, beta.true[1, ], type = 'o', col = 1, lwd = 2, ylim = c(-8, 8), xlab = \"\", ylab = \"Coefficients\", main = paste(\"SNR =\", SNRs[kk]), cex.lab = cex_lab, cex.axis = cex_axis, cex.main = cex_main)\n",
    "    } else {\n",
    "        plot(1:30, beta.true[1, ], type = 'o', col = 1, lwd = 2, ylim = c(-8, 8), xlab = \"\", ylab = \"\", main = paste(\"SNR =\", SNRs[kk]), cex.lab = cex_lab, cex.axis = cex_axis, cex.main = cex_main)\n",
    "    }\n",
    "    \n",
    "    lines(1:30, beta.uni[1, ], type = 'l', col = 4, lty = 2)\n",
    "    beta.ave <- beta.ave + beta.uni[1, ]\n",
    "    # lines(1:30, beta.spline[1, ], type = 'o', col = 3, lty = 2)\n",
    "    # lines(1:30, beta.spline.ridge[1, ], type = 'o', col = 4, lty = 2)\n",
    "\n",
    "    # 绘制剩余的plots\n",
    "    for (uu in uusample[-1]) {\n",
    "        tmp <- paste0(\"Results-v11s/11-3p/Res_\", uu, \".RDS\")\n",
    "        if (file.exists(tmp)) {\n",
    "            temp <- readRDS(tmp)\n",
    "        } else {\n",
    "            cat(uu, \", \", sep = \"\")\n",
    "        }\n",
    "        beta.uni <- matrix(temp$beta.all[,8], nrow = 6, byrow = TRUE)\n",
    "        # beta.spline <- matrix(temp$beta.all[,8], nrow = 6, byrow = TRUE)\n",
    "        # beta.spline.ridge <- matrix(temp$beta.all[,9], nrow = 6, byrow = TRUE)\n",
    "        lines(1:30, beta.uni[1,], type = 'l', col = 4, lty = 2)\n",
    "        beta.ave <- beta.ave + beta.uni[1, ]\n",
    "        # lines(1:30, beta.spline[1,], type = 'o', col = 3, lty = 2)\n",
    "        # lines(1:30, beta.spline.ridge[1, ], type = 'o', col = 4, lty = 2)\n",
    "    }\n",
    "\n",
    "    lines(1:30, beta.ave / length(uusample), type = 'o', col = 2, lty = 1, lwd = 2)\n",
    "}\n",
    "dev.off()"
   ]
  },
  {
   "cell_type": "code",
   "execution_count": 35,
   "metadata": {
    "vscode": {
     "languageId": "r"
    }
   },
   "outputs": [
    {
     "data": {
      "text/html": [
       "<strong>png:</strong> 2"
      ],
      "text/latex": [
       "\\textbf{png:} 2"
      ],
      "text/markdown": [
       "**png:** 2"
      ],
      "text/plain": [
       "png \n",
       "  2 "
      ]
     },
     "metadata": {},
     "output_type": "display_data"
    }
   ],
   "source": [
    "pdf(\"figs/11-3p-curve-3.pdf\", width = 17, height = 4)\n",
    "par(mfrow = c(1, 3), mar = c(5, 5, 4, 2) + 0.4)\n",
    "\n",
    "# 设置字体大小\n",
    "cex_lab <- 3 # 坐标轴标签的大小\n",
    "cex_axis <- 2 # 坐标轴数字的大小\n",
    "cex_main <- 2 # 主标题的大小\n",
    "\n",
    "\n",
    "n <- 750\n",
    "SNRs <- c(0.10, 0.25, 0.5)\n",
    "q <- 0.25\n",
    "\n",
    "# 为每个kk值绘图\n",
    "for (kk in 1:3) {\n",
    "    beta.ave <- rep(0, 30)\n",
    "    uus <- which(combs$tau == SNRs[kk] & combs$n == n & combs$quantile == q)\n",
    "    uusample <- uus\n",
    "\n",
    "    uu <- uusample[1]\n",
    "    tmp <- paste0(\"Results-v13s/13-3p/Res_\", uu, \".RDS\")\n",
    "    temp <- readRDS(tmp)\n",
    "\n",
    "    beta.true <- matrix(temp$beta.all[,1], nrow = 6, byrow = TRUE)\n",
    "    beta.uni <- matrix(temp$beta.all[,3], nrow = 6, byrow = TRUE)\n",
    "    # beta.spline <- matrix(temp$beta.all[,8], nrow = 6, byrow = TRUE)\n",
    "    # beta.spline.ridge <- matrix(temp$beta.all[,9], nrow = 6, byrow = TRUE)\n",
    "\n",
    "    # 绘制第一个plot\n",
    "    if (kk == 1) {\n",
    "        plot(1:30, beta.true[1, ], type = 'o', col = 1, lwd = 2, ylim = c(-8, 8), xlab = \"\", ylab = \"Coefficients\", main = paste(\"SNR =\", SNRs[kk]), cex.lab = cex_lab, cex.axis = cex_axis, cex.main = cex_main)\n",
    "    } else {\n",
    "        plot(1:30, beta.true[1, ], type = 'o', col = 1, lwd = 2, ylim = c(-8, 8), xlab = \"\", ylab = \"\", main = paste(\"SNR =\", SNRs[kk]), cex.lab = cex_lab, cex.axis = cex_axis, cex.main = cex_main)\n",
    "    }\n",
    "    \n",
    "    lines(1:30, beta.uni[1, ], type = 'l', col = \"orange\", lty = 2)\n",
    "    beta.ave <- beta.ave + beta.uni[1, ]\n",
    "    # lines(1:30, beta.spline[1, ], type = 'o', col = 3, lty = 2)\n",
    "    # lines(1:30, beta.spline.ridge[1, ], type = 'o', col = 4, lty = 2)\n",
    "\n",
    "    # 绘制剩余的plots\n",
    "    for (uu in uusample[-1]) {\n",
    "        tmp <- paste0(\"Results-v13s/13-3p/Res_\", uu, \".RDS\")\n",
    "        if (file.exists(tmp)) {\n",
    "            temp <- readRDS(tmp)\n",
    "        } else {\n",
    "            cat(uu, \", \", sep = \"\")\n",
    "        }\n",
    "        beta.uni <- matrix(temp$beta.all[,3], nrow = 6, byrow = TRUE)\n",
    "        # beta.spline <- matrix(temp$beta.all[,8], nrow = 6, byrow = TRUE)\n",
    "        # beta.spline.ridge <- matrix(temp$beta.all[,9], nrow = 6, byrow = TRUE)\n",
    "        lines(1:30, beta.uni[1,], type = 'l', col = \"orange\", lty = 2)\n",
    "        beta.ave <- beta.ave + beta.uni[1, ]\n",
    "        # lines(1:30, beta.spline[1,], type = 'o', col = 3, lty = 2)\n",
    "        # lines(1:30, beta.spline.ridge[1, ], type = 'o', col = 4, lty = 2)\n",
    "    }\n",
    "\n",
    "    lines(1:30, beta.ave / length(uusample), type = 'o', col = 2, lty = 1, lwd = 2)\n",
    "}\n",
    "dev.off()"
   ]
  }
 ],
 "metadata": {
  "kernelspec": {
   "display_name": "R",
   "language": "R",
   "name": "ir"
  },
  "language_info": {
   "codemirror_mode": "r",
   "file_extension": ".r",
   "mimetype": "text/x-r-source",
   "name": "R",
   "pygments_lexer": "r",
   "version": "4.3.3"
  }
 },
 "nbformat": 4,
 "nbformat_minor": 2
}
